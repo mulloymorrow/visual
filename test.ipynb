{
 "cells": [
  {
   "cell_type": "markdown",
   "metadata": {},
   "source": [
    "# Hello World test "
   ]
  },
  {
   "cell_type": "code",
   "execution_count": null,
   "metadata": {},
   "outputs": [],
   "source": [
    "# Code is compatible with either Python 2.7 or 3.X\n",
    "# NB. past module required for python 3 users (https://pypi.python.org/pypi/past)\n",
    "from __future__ import print_function, division, generators\n",
    "import sys\n",
    "print(\"Running Python {0}.{1}\".format(\n",
    "    sys.version_info[:2][0],sys.version_info[:2][1]))\n",
    "if sys.version_info[:2] > (3, 0):\n",
    "    print(\"Adding xrange for backwards compatibility\".format(\n",
    "        sys.version_info[:2][0],sys.version_info[:2][1]))\n",
    "    from past.builtins import xrange\n",
    "#from __future__ import print_function,division,generators\n",
    "%pylab inline\n",
    "from scipy.stats.stats import pearsonr\n",
    "import pandas as pd\n",
    "import datetime as dt\n",
    "from scipy.stats import kendalltau\n",
    "import seaborn as sns\n",
    "from random import randrange\n",
    "sns.set(style=\"darkgrid\") \\\n",
    "webpth = 'http://www.files.benlaken.com/documents/'\n",
    "\n",
    "monsoon = pd.read_csv(webpth+'Monsoon_data.csv', parse_dates=['Date'])\n",
    "monsoon.index = monsoon.Date\n",
    "monsoon = monsoon.drop('Date', 1) \\\n",
    "\n",
    "olou = pd.read_csv(webpth+'Olou_counts.csv',parse_dates=['Date'])\n",
    "olou.index = olou.Date\n",
    "olou = olou.drop('Date', 1) "
   ]
  },
  {
   "cell_type": "code",
   "execution_count": null,
   "metadata": {},
   "outputs": [],
   "source": [
    "# Plot the simple time series \n",
    "my_ts = plt.figure()\n",
    "my_ts.set_size_inches(10,5)         # Specify the output size\n",
    "ax1 = my_ts.add_subplot(211)        # Add an axis frame object to the plot (i.e. a pannel)\n",
    "ax2 = my_ts.add_subplot(212)\n",
    "\n",
    "ax1.step(monsoon.index.date,monsoon.Precip,lw=1.0)\n",
    "ax1.set_title(r'Monthly Precipitation and NM counts')\n",
    "ax1.set_ylabel(r'Precipitation (mm)')\n",
    "ax1.grid(True)\n",
    "#ax1.set_yscale('log')\n",
    "\n",
    "ax2.plot(olou.index.date,olou.Counts/1000,'r.',ms=3.0)\n",
    "ax2.set_ylabel(r'Olou NM (cnt./min.$\\times10^{3}$)')\n",
    "ax2.set_xlabel('Date')\n",
    "ax2.grid(True)\n",
    "plt.show(my_ts)\n",
    "my_ts.savefig('Monthly_ts.pdf',dpi=300)"
   ]
  }
 ],
 "metadata": {
  "kernelspec": {
   "display_name": "Python 2",
   "language": "python",
   "name": "python2"
  },
  "language_info": {
   "codemirror_mode": {
    "name": "ipython",
    "version": 2.0
   },
   "file_extension": ".py",
   "mimetype": "text/x-python",
   "name": "python",
   "nbconvert_exporter": "python",
   "pygments_lexer": "ipython2",
   "version": "2.7.10"
  }
 },
 "nbformat": 4,
 "nbformat_minor": 0
}